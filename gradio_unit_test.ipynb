{
 "cells": [
  {
   "cell_type": "code",
   "execution_count": 12,
   "metadata": {},
   "outputs": [],
   "source": [
    "import gradio as gr\n",
    "def build_gradio(concurrency_count=10):\n",
    "    textbox = gr.Textbox(show_label=False, placeholder=\"Choose Chat Style\", container=False, interactive = False)\n",
    "\n",
    "    with gr.Blocks(\n",
    "            theme='enescakircali/Indian-Henna',\n",
    "        ) as demo:\n",
    "        state = gr.State()\n",
    "        with gr.Row():\n",
    "            with gr.Column(scale=3):\n",
    "\n",
    "                imagebox = gr.Image(type=\"pil\", interactive=False)\n",
    "                image_process_mode = gr.Radio(\n",
    "                    [\"Crop\", \"Resize\", \"Pad\", \"Default\"],\n",
    "                    value=\"Default\",\n",
    "                    label=\"Preprocess for non-square image\", visible=False)\n",
    "\n",
    "            with gr.Column(scale=8):\n",
    "                chatbot = gr.Chatbot(\n",
    "                    label='Free to ask!',\n",
    "                    height=600,\n",
    "                )\n",
    "                with gr.Row():\n",
    "                    with gr.Column(scale=8):\n",
    "                        textbox.render()\n",
    "                    with gr.Column(scale=1, min_width=50):\n",
    "                        submit_btn = gr.Button(value=\"Send\", variant=\"primary\", interactive = False)\n",
    "\n",
    "                with gr.Row(elem_id=\"buttons\") as button_row:\n",
    "                    clear_btn = gr.Button(value=\"🗑️  Clear\", interactive=False)\n",
    "                    finish_btn = gr.Button(value=\"🏁 End Talking\", interactive = False)\n",
    "                    \n",
    "            with gr.Column(scale=8):\n",
    "                with gr.Column(elem_id=\"buttons\") as start_button_row:\n",
    "                    spell_btn = gr.Button(value=\"🪄 Spell\", interactive = True, scale = 2)\n",
    "                    potion_btn = gr.Button(value=\"🧉 Potion\", interactive = True, scale = 2)\n",
    "                    other_btn = gr.Button(value=\"📚 Others\", interactive = True, scale = 2)\n",
    "                    house_btn = gr.Button(value=\"🌟 Find your House\", interactive = True, scale = 2)\n",
    "            \n",
    "        # regenerate_btn과 clear_btn은 chatbot에 type가 되었을 때 누를 수 있어야하기 때문에,\n",
    "        # enable, disable_btn으로 컨트롤한다!\n",
    "\n",
    "        box_list = [spell_btn, potion_btn, other_btn, house_btn, imagebox, textbox, submit_btn, finish_btn, clear_btn]\n",
    "        \n",
    "        \n",
    "        # button.click(fn=greet, inputs=[name, intensity], outputs=[output])\n",
    "\n",
    "    return demo"
   ]
  },
  {
   "cell_type": "code",
   "execution_count": 11,
   "metadata": {},
   "outputs": [
    {
     "name": "stdout",
     "output_type": "stream",
     "text": [
      "Running on local URL:  http://127.0.0.1:7863\n",
      "Running on public URL: https://1c795417f4d586419d.gradio.live\n",
      "\n",
      "This share link expires in 72 hours. For free permanent hosting and GPU upgrades, run `gradio deploy` from Terminal to deploy to Spaces (https://huggingface.co/spaces)\n"
     ]
    },
    {
     "data": {
      "text/html": [
       "<div><iframe src=\"https://1c795417f4d586419d.gradio.live\" width=\"100%\" height=\"500\" allow=\"autoplay; camera; microphone; clipboard-read; clipboard-write;\" frameborder=\"0\" allowfullscreen></iframe></div>"
      ],
      "text/plain": [
       "<IPython.core.display.HTML object>"
      ]
     },
     "metadata": {},
     "output_type": "display_data"
    }
   ],
   "source": [
    "import argparse\n",
    "if __name__ == \"__main__\":\n",
    "\n",
    "    # 컨트롤러에서 사용가능한 모델 가져옴. 나는 모델 하나만 쓸 것이기 때문에, get_model_list()에서 해당 모델이 동작하고 있는 url을 넘겨주면 된다!\n",
    "    # models = [args.model_url] \n",
    "    \n",
    "    # llava = HPChatBot(load_in_8bit=True,\n",
    "    #                    bnb_8bit_compute_dtype=torch.float16,\n",
    "    #                    bnb_8bit_use_double_quant=True,\n",
    "    #                    bnb_8bit_quant_type='nf8')\n",
    "    \n",
    "    # Gradio를 이용해서 데모 만들기\n",
    "    demo = build_gradio()\n",
    "    demo.queue(\n",
    "        api_open=False\n",
    "    ).launch(\n",
    "        share=False\n",
    "    )\n"
   ]
  },
  {
   "cell_type": "code",
   "execution_count": null,
   "metadata": {},
   "outputs": [],
   "source": []
  }
 ],
 "metadata": {
  "kernelspec": {
   "display_name": "gemma",
   "language": "python",
   "name": "python3"
  },
  "language_info": {
   "codemirror_mode": {
    "name": "ipython",
    "version": 3
   },
   "file_extension": ".py",
   "mimetype": "text/x-python",
   "name": "python",
   "nbconvert_exporter": "python",
   "pygments_lexer": "ipython3",
   "version": "3.10.14"
  }
 },
 "nbformat": 4,
 "nbformat_minor": 2
}
